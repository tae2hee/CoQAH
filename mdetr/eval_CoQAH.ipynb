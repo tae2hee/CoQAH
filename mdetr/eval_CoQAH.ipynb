{
 "cells": [
  {
   "cell_type": "code",
   "execution_count": null,
   "id": "edcc4663-f538-456b-b7ce-d7ace811da37",
   "metadata": {},
   "outputs": [],
   "source": [
    "import json\n",
    "import re\n",
    "from sklearn.metrics import *\n",
    "\n",
    "res_dict = json.loads(open('coqah_20_clevr_human_val360.json', 'r').read())\n",
    "res = res_dict[\"res\"]\n",
    "gts = res_dict[\"gts\"]\n",
    "\n",
    "print(len(res))\n",
    "\n",
    "acc = accuracy_score(gts, res)\n",
    "print(\"AFA ACC: \",acc)\n"
   ]
  }
 ],
 "metadata": {
  "kernelspec": {
   "display_name": "mdetr_env",
   "language": "python",
   "name": "mdetr_env"
  },
  "language_info": {
   "codemirror_mode": {
    "name": "ipython",
    "version": 3
   },
   "file_extension": ".py",
   "mimetype": "text/x-python",
   "name": "python",
   "nbconvert_exporter": "python",
   "pygments_lexer": "ipython3",
   "version": "3.8.18"
  }
 },
 "nbformat": 4,
 "nbformat_minor": 5
}
