{
 "cells": [
  {
   "cell_type": "markdown",
   "id": "5a0cb141-25d4-46d2-a0a4-6c6593837ab8",
   "metadata": {},
   "source": [
    "# LAVE"
   ]
  },
  {
   "cell_type": "code",
   "execution_count": null,
   "id": "492b0a6a-f1cc-4a49-a86b-39f95b4a53e0",
   "metadata": {},
   "outputs": [],
   "source": [
    "import json\n",
    "\n",
    "data_json = json.loads(open('lave_coqah_5_slake_all_open.json', 'r').read())\n",
    "scores = []\n",
    "for dd in data_json:\n",
    "    scores.append(dd[\"score\"])\n",
    "print(sum(scores)/len(scores))"
   ]
  },
  {
   "cell_type": "markdown",
   "id": "0853ba0d-9b80-42ab-8666-73c06fd7cb5d",
   "metadata": {},
   "source": [
    "## CLosed"
   ]
  },
  {
   "cell_type": "code",
   "execution_count": null,
   "id": "edcc4663-f538-456b-b7ce-d7ace811da37",
   "metadata": {},
   "outputs": [],
   "source": [
    "import json\n",
    "import re\n",
    "from sklearn.metrics import *\n",
    "\n",
    "res_dict = json.loads(open('coqah_5_vqa_rad_closed.json', 'r').read())\n",
    "res = res_dict[\"res\"]\n",
    "gts = res_dict[\"gts\"]\n",
    "\n",
    "print(len(res))\n",
    "\n",
    "acc = accuracy_score(gts, res)\n",
    "print(\"ACC: \",acc)"
   ]
  }
 ],
 "metadata": {
  "kernelspec": {
   "display_name": "ofa",
   "language": "python",
   "name": "ofa"
  },
  "language_info": {
   "codemirror_mode": {
    "name": "ipython",
    "version": 3
   },
   "file_extension": ".py",
   "mimetype": "text/x-python",
   "name": "python",
   "nbconvert_exporter": "python",
   "pygments_lexer": "ipython3",
   "version": "3.7.4"
  }
 },
 "nbformat": 4,
 "nbformat_minor": 5
}
